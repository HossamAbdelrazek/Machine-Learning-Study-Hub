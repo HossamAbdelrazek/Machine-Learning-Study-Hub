{
 "cells": [
  {
   "cell_type": "code",
   "execution_count": 11,
   "metadata": {},
   "outputs": [],
   "source": [
    "def fun1(x: int, y: int) -> int:\n",
    "    \"\"\"This function returns the product of two numbers, x and y.\n",
    "    \n",
    "    Args:\n",
    "        x (int): First number\n",
    "        y (int): Second number\n",
    "        \n",
    "    Returns:\n",
    "        int: Multiplication of x and y\n",
    "    \"\"\"\n",
    "    assert isinstance(x, int), \"x must be an integer\"\n",
    "    assert isinstance(y, int), \"y must be an integer\"\n",
    "    \n",
    "    z = x * y\n",
    "    return z\n",
    "\n",
    "\n",
    "def fun2(x, y): \n",
    "    \"\"\"_summary_\n",
    "    this function returns mult. of two nums, x and y\n",
    "    Args:\n",
    "        x (int): first num\n",
    "        y (int): sec num\n",
    "        \n",
    "    Returns:\n",
    "        int: mul of x and y\n",
    "    \"\"\"\n",
    "    z = x * y\n",
    "    return z\n",
    "\n",
    "\n",
    "\n"
   ]
  },
  {
   "cell_type": "code",
   "execution_count": 12,
   "metadata": {},
   "outputs": [
    {
     "ename": "AssertionError",
     "evalue": "y must be an integer",
     "output_type": "error",
     "traceback": [
      "\u001b[1;31m---------------------------------------------------------------------------\u001b[0m",
      "\u001b[1;31mAssertionError\u001b[0m                            Traceback (most recent call last)",
      "Cell \u001b[1;32mIn[12], line 1\u001b[0m\n\u001b[1;32m----> 1\u001b[0m fun1(\u001b[38;5;241m2\u001b[39m, \u001b[38;5;124m\"\u001b[39m\u001b[38;5;124mm\u001b[39m\u001b[38;5;124m\"\u001b[39m)\n",
      "Cell \u001b[1;32mIn[11], line 12\u001b[0m, in \u001b[0;36mfun1\u001b[1;34m(x, y)\u001b[0m\n\u001b[0;32m      2\u001b[0m \u001b[38;5;250m\u001b[39m\u001b[38;5;124;03m\"\"\"This function returns the product of two numbers, x and y.\u001b[39;00m\n\u001b[0;32m      3\u001b[0m \u001b[38;5;124;03m\u001b[39;00m\n\u001b[0;32m      4\u001b[0m \u001b[38;5;124;03mArgs:\u001b[39;00m\n\u001b[1;32m   (...)\u001b[0m\n\u001b[0;32m      9\u001b[0m \u001b[38;5;124;03m    int: Multiplication of x and y\u001b[39;00m\n\u001b[0;32m     10\u001b[0m \u001b[38;5;124;03m\"\"\"\u001b[39;00m\n\u001b[0;32m     11\u001b[0m \u001b[38;5;28;01massert\u001b[39;00m \u001b[38;5;28misinstance\u001b[39m(x, \u001b[38;5;28mint\u001b[39m), \u001b[38;5;124m\"\u001b[39m\u001b[38;5;124mx must be an integer\u001b[39m\u001b[38;5;124m\"\u001b[39m\n\u001b[1;32m---> 12\u001b[0m \u001b[38;5;28;01massert\u001b[39;00m \u001b[38;5;28misinstance\u001b[39m(y, \u001b[38;5;28mint\u001b[39m), \u001b[38;5;124m\"\u001b[39m\u001b[38;5;124my must be an integer\u001b[39m\u001b[38;5;124m\"\u001b[39m\n\u001b[0;32m     14\u001b[0m z \u001b[38;5;241m=\u001b[39m x \u001b[38;5;241m*\u001b[39m y\n\u001b[0;32m     15\u001b[0m \u001b[38;5;28;01mreturn\u001b[39;00m z\n",
      "\u001b[1;31mAssertionError\u001b[0m: y must be an integer"
     ]
    }
   ],
   "source": [
    "fun1(2, \"m\")"
   ]
  },
  {
   "cell_type": "code",
   "execution_count": null,
   "metadata": {},
   "outputs": [],
   "source": []
  }
 ],
 "metadata": {
  "kernelspec": {
   "display_name": "myenv",
   "language": "python",
   "name": "python3"
  },
  "language_info": {
   "codemirror_mode": {
    "name": "ipython",
    "version": 3
   },
   "file_extension": ".py",
   "mimetype": "text/x-python",
   "name": "python",
   "nbconvert_exporter": "python",
   "pygments_lexer": "ipython3",
   "version": "3.11.5"
  }
 },
 "nbformat": 4,
 "nbformat_minor": 2
}
