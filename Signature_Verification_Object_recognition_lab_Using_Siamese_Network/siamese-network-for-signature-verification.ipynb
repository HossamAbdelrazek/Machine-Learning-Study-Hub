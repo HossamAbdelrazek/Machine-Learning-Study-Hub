{
  "metadata": {
    "kernelspec": {
      "name": "python3",
      "display_name": "Python 3"
    },
    "language_info": {
      "name": "python",
      "version": "3.11.11",
      "mimetype": "text/x-python",
      "codemirror_mode": {
        "name": "ipython",
        "version": 3
      },
      "pygments_lexer": "ipython3",
      "nbconvert_exporter": "python",
      "file_extension": ".py"
    },
    "colab": {
      "provenance": [],
      "gpuType": "T4"
    },
    "accelerator": "GPU",
    "kaggle": {
      "accelerator": "none",
      "dataSources": [
        {
          "sourceId": 11381153,
          "sourceType": "datasetVersion",
          "datasetId": 7126170
        }
      ],
      "dockerImageVersionId": 31012,
      "isInternetEnabled": true,
      "language": "python",
      "sourceType": "notebook",
      "isGpuEnabled": false
    }
  },
  "nbformat_minor": 0,
  "nbformat": 4,
  "cells": [
    {
      "cell_type": "markdown",
      "source": [
        "# Importing Libraries"
      ],
      "metadata": {
        "id": "35f012b2"
      }
    },
    {
      "cell_type": "code",
      "source": [
        "!pip install opencv-python\n",
        "!pip install tqdm"
      ],
      "metadata": {
        "colab": {
          "base_uri": "https://localhost:8080/"
        },
        "id": "2OhQLrp0ekeI",
        "outputId": "cf13ec8d-6dd1-4a52-889b-140898986f43"
      },
      "execution_count": 1,
      "outputs": [
        {
          "output_type": "stream",
          "name": "stdout",
          "text": [
            "Requirement already satisfied: opencv-python in /usr/local/lib/python3.11/dist-packages (4.11.0.86)\n",
            "Requirement already satisfied: numpy>=1.21.2 in /usr/local/lib/python3.11/dist-packages (from opencv-python) (2.0.2)\n",
            "Requirement already satisfied: tqdm in /usr/local/lib/python3.11/dist-packages (4.67.1)\n"
          ]
        }
      ]
    },
    {
      "cell_type": "code",
      "source": [
        "import pandas as pd\n",
        "import numpy as np\n",
        "import matplotlib.pyplot as plt\n",
        "import random\n",
        "import seaborn as sns\n",
        "import cv2\n",
        "import os\n",
        "import torch\n",
        "from torch import nn\n",
        "from torch import optim\n",
        "from torch.utils.data import Dataset\n",
        "from torch.utils.data import DataLoader\n",
        "from itertools import combinations\n",
        "from tqdm import tqdm\n",
        "from sklearn.metrics import classification_report, accuracy_score, confusion_matrix\n",
        "os.environ[\"PYTORCH_CUDA_ALLOC_CONF\"] = \"expandable_segments:True\""
      ],
      "metadata": {
        "id": "7bae29eb",
        "trusted": true,
        "execution": {
          "iopub.status.busy": "2025-04-17T09:09:10.984846Z",
          "iopub.execute_input": "2025-04-17T09:09:10.985503Z",
          "iopub.status.idle": "2025-04-17T09:09:20.880488Z",
          "shell.execute_reply.started": "2025-04-17T09:09:10.985478Z",
          "shell.execute_reply": "2025-04-17T09:09:20.879698Z"
        }
      },
      "outputs": [],
      "execution_count": 2
    },
    {
      "cell_type": "code",
      "source": [
        "!unzip Siamese.zip"
      ],
      "metadata": {
        "colab": {
          "base_uri": "https://localhost:8080/"
        },
        "id": "38VDQHYEe1GA",
        "outputId": "41f251d7-ffc3-49f4-f06f-b1acf483b5cd"
      },
      "execution_count": 5,
      "outputs": [
        {
          "output_type": "stream",
          "name": "stdout",
          "text": [
            "Archive:  Siamese.zip\n",
            "   creating: Siamese/\n",
            "   creating: Siamese/personA/\n",
            "   creating: Siamese/personA/Test/\n",
            "  inflating: Siamese/personA/Test/personA_10.png  \n",
            "  inflating: Siamese/personA/Test/personA_13.png  \n",
            "  inflating: Siamese/personA/Test/personA_2.png  \n",
            "  inflating: Siamese/personA/Test/personA_20.png  \n",
            "  inflating: Siamese/personA/Test/personA_27.png  \n",
            "  inflating: Siamese/personA/Test/personA_29.png  \n",
            "  inflating: Siamese/personA/Test/personA_42.png  \n",
            "  inflating: Siamese/personA/Test/personA_SigVerificationTestLabels.csv  \n",
            "  inflating: Siamese/personA/Test/personA_33.png  \n",
            "   creating: Siamese/personA/Train/\n",
            "  inflating: Siamese/personA/Train/personA_30.png  \n",
            "  inflating: Siamese/personA/Train/personA_1.png  \n",
            "  inflating: Siamese/personA/Train/personA_11.png  \n",
            "  inflating: Siamese/personA/Train/personA_12.png  \n",
            "  inflating: Siamese/personA/Train/personA_14.png  \n",
            "  inflating: Siamese/personA/Train/personA_15.png  \n",
            "  inflating: Siamese/personA/Train/personA_16.png  \n",
            "  inflating: Siamese/personA/Train/personA_17.png  \n",
            "  inflating: Siamese/personA/Train/personA_18.png  \n",
            "  inflating: Siamese/personA/Train/personA_19.png  \n",
            "  inflating: Siamese/personA/Train/personA_21.png  \n",
            "  inflating: Siamese/personA/Train/personA_22.png  \n",
            "  inflating: Siamese/personA/Train/personA_23.png  \n",
            "  inflating: Siamese/personA/Train/personA_24.png  \n",
            "  inflating: Siamese/personA/Train/personA_25.png  \n",
            "  inflating: Siamese/personA/Train/personA_26.png  \n",
            "  inflating: Siamese/personA/Train/personA_28.png  \n",
            "  inflating: Siamese/personA/Train/personA_3.png  \n",
            "  inflating: Siamese/personA/Train/personA_31.png  \n",
            "  inflating: Siamese/personA/Train/personA_32.png  \n",
            "  inflating: Siamese/personA/Train/personA_34.png  \n",
            "  inflating: Siamese/personA/Train/personA_35.png  \n",
            "  inflating: Siamese/personA/Train/personA_36.png  \n",
            "  inflating: Siamese/personA/Train/personA_37.png  \n",
            "  inflating: Siamese/personA/Train/personA_38.png  \n",
            "  inflating: Siamese/personA/Train/personA_39.png  \n",
            "  inflating: Siamese/personA/Train/personA_4.png  \n",
            "  inflating: Siamese/personA/Train/personA_40.png  \n",
            "  inflating: Siamese/personA/Train/personA_41.png  \n",
            "  inflating: Siamese/personA/Train/personA_43.png  \n",
            "  inflating: Siamese/personA/Train/personA_44.png  \n",
            "  inflating: Siamese/personA/Train/personA_45.png  \n",
            "  inflating: Siamese/personA/Train/personA_46.png  \n",
            "  inflating: Siamese/personA/Train/personA_47.png  \n",
            "  inflating: Siamese/personA/Train/personA_48.png  \n",
            "  inflating: Siamese/personA/Train/personA_5.png  \n",
            "  inflating: Siamese/personA/Train/personA_6.png  \n",
            "  inflating: Siamese/personA/Train/personA_7.png  \n",
            "  inflating: Siamese/personA/Train/personA_8.png  \n",
            "  inflating: Siamese/personA/Train/personA_9.png  \n",
            "  inflating: Siamese/personA/Train/personA_SigVerificationTrainLabels.csv  \n",
            "   creating: Siamese/personB/\n",
            "   creating: Siamese/personB/Test/\n",
            "  inflating: Siamese/personB/Test/personB_10.png  \n",
            "  inflating: Siamese/personB/Test/personB_13.png  \n",
            "  inflating: Siamese/personB/Test/personB_2.png  \n",
            "  inflating: Siamese/personB/Test/personB_20.png  \n",
            "  inflating: Siamese/personB/Test/personB_27.png  \n",
            "  inflating: Siamese/personB/Test/personB_29.png  \n",
            "  inflating: Siamese/personB/Test/personB_33.png  \n",
            "  inflating: Siamese/personB/Test/personB_42.png  \n",
            "  inflating: Siamese/personB/Test/personB_SigVerificationTestLabels.csv  \n",
            "   creating: Siamese/personB/Train/\n",
            "  inflating: Siamese/personB/Train/personB_1.png  \n",
            "  inflating: Siamese/personB/Train/personB_11.png  \n",
            "  inflating: Siamese/personB/Train/personB_12.png  \n",
            "  inflating: Siamese/personB/Train/personB_14.png  \n",
            "  inflating: Siamese/personB/Train/personB_15.png  \n",
            "  inflating: Siamese/personB/Train/personB_16.png  \n",
            "  inflating: Siamese/personB/Train/personB_17.png  \n",
            "  inflating: Siamese/personB/Train/personB_18.png  \n",
            "  inflating: Siamese/personB/Train/personB_19.png  \n",
            "  inflating: Siamese/personB/Train/personB_21.png  \n",
            "  inflating: Siamese/personB/Train/personB_22.png  \n",
            "  inflating: Siamese/personB/Train/personB_23.png  \n",
            "  inflating: Siamese/personB/Train/personB_24.png  \n",
            "  inflating: Siamese/personB/Train/personB_25.png  \n",
            "  inflating: Siamese/personB/Train/personB_26.png  \n",
            "  inflating: Siamese/personB/Train/personB_28.png  \n",
            "  inflating: Siamese/personB/Train/personB_3.png  \n",
            "  inflating: Siamese/personB/Train/personB_30.png  \n",
            "  inflating: Siamese/personB/Train/personB_31.png  \n",
            "  inflating: Siamese/personB/Train/personB_32.png  \n",
            "  inflating: Siamese/personB/Train/personB_34.png  \n",
            "  inflating: Siamese/personB/Train/personB_35.png  \n",
            "  inflating: Siamese/personB/Train/personB_36.png  \n",
            "  inflating: Siamese/personB/Train/personB_37.png  \n",
            "  inflating: Siamese/personB/Train/personB_38.png  \n",
            "  inflating: Siamese/personB/Train/personB_39.png  \n",
            "  inflating: Siamese/personB/Train/personB_4.png  \n",
            "  inflating: Siamese/personB/Train/personB_40.png  \n",
            "  inflating: Siamese/personB/Train/personB_41.png  \n",
            "  inflating: Siamese/personB/Train/personB_43.png  \n",
            "  inflating: Siamese/personB/Train/personB_44.png  \n",
            "  inflating: Siamese/personB/Train/personB_45.png  \n",
            "  inflating: Siamese/personB/Train/personB_46.png  \n",
            "  inflating: Siamese/personB/Train/personB_47.png  \n",
            "  inflating: Siamese/personB/Train/personB_48.png  \n",
            "  inflating: Siamese/personB/Train/personB_5.png  \n",
            "  inflating: Siamese/personB/Train/personB_6.png  \n",
            "  inflating: Siamese/personB/Train/personB_7.png  \n",
            "  inflating: Siamese/personB/Train/personB_8.png  \n",
            "  inflating: Siamese/personB/Train/personB_9.png  \n",
            "  inflating: Siamese/personB/Train/personB_SigVerificationTrainLabels.csv  \n",
            "   creating: Siamese/personC/\n",
            "   creating: Siamese/personC/Test/\n",
            "  inflating: Siamese/personC/Test/personC_13.png  \n",
            "  inflating: Siamese/personC/Test/personC_17.png  \n",
            "  inflating: Siamese/personC/Test/personC_19.png  \n",
            "  inflating: Siamese/personC/Test/personC_32.png  \n",
            "  inflating: Siamese/personC/Test/personC_34.png  \n",
            "  inflating: Siamese/personC/Test/personC_39.png  \n",
            "  inflating: Siamese/personC/Test/personC_6.png  \n",
            "  inflating: Siamese/personC/Test/personC_8.png  \n",
            "  inflating: Siamese/personC/Test/personC_SigVerificationTestLabels.csv  \n",
            "   creating: Siamese/personC/Train/\n",
            "  inflating: Siamese/personC/Train/personC_1.png  \n",
            "  inflating: Siamese/personC/Train/personC_10.png  \n",
            "  inflating: Siamese/personC/Train/personC_11.png  \n",
            "  inflating: Siamese/personC/Train/personC_12.png  \n",
            "  inflating: Siamese/personC/Train/personC_14.png  \n",
            "  inflating: Siamese/personC/Train/personC_15.png  \n",
            "  inflating: Siamese/personC/Train/personC_16.png  \n",
            "  inflating: Siamese/personC/Train/personC_18.png  \n",
            "  inflating: Siamese/personC/Train/personC_2.png  \n",
            "  inflating: Siamese/personC/Train/personC_20.png  \n",
            "  inflating: Siamese/personC/Train/personC_21.png  \n",
            "  inflating: Siamese/personC/Train/personC_22.png  \n",
            "  inflating: Siamese/personC/Train/personC_23.png  \n",
            "  inflating: Siamese/personC/Train/personC_24.png  \n",
            "  inflating: Siamese/personC/Train/personC_25.png  \n",
            "  inflating: Siamese/personC/Train/personC_26.png  \n",
            "  inflating: Siamese/personC/Train/personC_27.png  \n",
            "  inflating: Siamese/personC/Train/personC_28.png  \n",
            "  inflating: Siamese/personC/Train/personC_29.png  \n",
            "  inflating: Siamese/personC/Train/personC_3.png  \n",
            "  inflating: Siamese/personC/Train/personC_30.png  \n",
            "  inflating: Siamese/personC/Train/personC_31.png  \n",
            "  inflating: Siamese/personC/Train/personC_33.png  \n",
            "  inflating: Siamese/personC/Train/personC_35.png  \n",
            "  inflating: Siamese/personC/Train/personC_36.png  \n",
            "  inflating: Siamese/personC/Train/personC_37.png  \n",
            "  inflating: Siamese/personC/Train/personC_38.png  \n",
            "  inflating: Siamese/personC/Train/personC_4.png  \n",
            "  inflating: Siamese/personC/Train/personC_40.png  \n",
            "  inflating: Siamese/personC/Train/personC_41.png  \n",
            "  inflating: Siamese/personC/Train/personC_42.png  \n",
            "  inflating: Siamese/personC/Train/personC_43.png  \n",
            "  inflating: Siamese/personC/Train/personC_44.png  \n",
            "  inflating: Siamese/personC/Train/personC_45.png  \n",
            "  inflating: Siamese/personC/Train/personC_46.png  \n",
            "  inflating: Siamese/personC/Train/personC_47.png  \n",
            "  inflating: Siamese/personC/Train/personC_48.png  \n",
            "  inflating: Siamese/personC/Train/personC_5.png  \n",
            "  inflating: Siamese/personC/Train/personC_7.png  \n",
            "  inflating: Siamese/personC/Train/personC_9.png  \n",
            "  inflating: Siamese/personC/Train/personC_SigVerificationTrainLabels.csv  \n",
            "   creating: Siamese/personD/\n",
            "   creating: Siamese/personD/Test/\n",
            "  inflating: Siamese/personD/Test/personD_14.png  \n",
            "  inflating: Siamese/personD/Test/personD_15.png  \n",
            "  inflating: Siamese/personD/Test/personD_17.png  \n",
            "  inflating: Siamese/personD/Test/personD_21.png  \n",
            "  inflating: Siamese/personD/Test/personD_22.png  \n",
            "  inflating: Siamese/personD/Test/personD_26.png  \n",
            "  inflating: Siamese/personD/Test/personD_31.png  \n",
            "  inflating: Siamese/personD/Test/personD_41.png  \n",
            "  inflating: Siamese/personD/Test/personD_SigVerificationTestLabels.csv  \n",
            "   creating: Siamese/personD/Train/\n",
            "  inflating: Siamese/personD/Train/personD_1.png  \n",
            "  inflating: Siamese/personD/Train/personD_10.png  \n",
            "  inflating: Siamese/personD/Train/personD_11.png  \n",
            "  inflating: Siamese/personD/Train/personD_12.png  \n",
            "  inflating: Siamese/personD/Train/personD_13.png  \n",
            "  inflating: Siamese/personD/Train/personD_16.png  \n",
            "  inflating: Siamese/personD/Train/personD_18.png  \n",
            "  inflating: Siamese/personD/Train/personD_19.png  \n",
            "  inflating: Siamese/personD/Train/personD_2.png  \n",
            "  inflating: Siamese/personD/Train/personD_20.png  \n",
            "  inflating: Siamese/personD/Train/personD_23.png  \n",
            "  inflating: Siamese/personD/Train/personD_24.png  \n",
            "  inflating: Siamese/personD/Train/personD_25.png  \n",
            "  inflating: Siamese/personD/Train/personD_27.png  \n",
            "  inflating: Siamese/personD/Train/personD_28.png  \n",
            "  inflating: Siamese/personD/Train/personD_29.png  \n",
            "  inflating: Siamese/personD/Train/personD_3.png  \n",
            "  inflating: Siamese/personD/Train/personD_30.png  \n",
            "  inflating: Siamese/personD/Train/personD_32.png  \n",
            "  inflating: Siamese/personD/Train/personD_33.png  \n",
            "  inflating: Siamese/personD/Train/personD_34.png  \n",
            "  inflating: Siamese/personD/Train/personD_35.png  \n",
            "  inflating: Siamese/personD/Train/personD_36.png  \n",
            "  inflating: Siamese/personD/Train/personD_37.png  \n",
            "  inflating: Siamese/personD/Train/personD_38.png  \n",
            "  inflating: Siamese/personD/Train/personD_39.png  \n",
            "  inflating: Siamese/personD/Train/personD_4.png  \n",
            "  inflating: Siamese/personD/Train/personD_40.png  \n",
            "  inflating: Siamese/personD/Train/personD_42.png  \n",
            "  inflating: Siamese/personD/Train/personD_43.png  \n",
            "  inflating: Siamese/personD/Train/personD_44.png  \n",
            "  inflating: Siamese/personD/Train/personD_45.png  \n",
            "  inflating: Siamese/personD/Train/personD_46.png  \n",
            "  inflating: Siamese/personD/Train/personD_47.png  \n",
            "  inflating: Siamese/personD/Train/personD_48.png  \n",
            "  inflating: Siamese/personD/Train/personD_5.png  \n",
            "  inflating: Siamese/personD/Train/personD_6.png  \n",
            "  inflating: Siamese/personD/Train/personD_7.png  \n",
            "  inflating: Siamese/personD/Train/personD_8.png  \n",
            "  inflating: Siamese/personD/Train/personD_9.png  \n",
            "  inflating: Siamese/personD/Train/personD_SigVerificationTrainLabels.csv  \n",
            "   creating: Siamese/personE/\n",
            "   creating: Siamese/personE/Test/\n",
            "  inflating: Siamese/personE/Test/personE_15.png  \n",
            "  inflating: Siamese/personE/Test/personE_17.png  \n",
            "  inflating: Siamese/personE/Test/personE_18.png  \n",
            "  inflating: Siamese/personE/Test/personE_22.png  \n",
            "  inflating: Siamese/personE/Test/personE_27.png  \n",
            "  inflating: Siamese/personE/Test/personE_32.png  \n",
            "  inflating: Siamese/personE/Test/personE_35.png  \n",
            "  inflating: Siamese/personE/Test/personE_40.png  \n",
            "  inflating: Siamese/personE/Test/personE_SigVerificationTestLabels.csv  \n",
            "   creating: Siamese/personE/Train/\n",
            "  inflating: Siamese/personE/Train/personE_1.png  \n",
            "  inflating: Siamese/personE/Train/personE_10.png  \n",
            "  inflating: Siamese/personE/Train/personE_11.png  \n",
            "  inflating: Siamese/personE/Train/personE_12.png  \n",
            "  inflating: Siamese/personE/Train/personE_13.png  \n",
            "  inflating: Siamese/personE/Train/personE_14.png  \n",
            "  inflating: Siamese/personE/Train/personE_16.png  \n",
            "  inflating: Siamese/personE/Train/personE_19.png  \n",
            "  inflating: Siamese/personE/Train/personE_2.png  \n",
            "  inflating: Siamese/personE/Train/personE_20.png  \n",
            "  inflating: Siamese/personE/Train/personE_21.png  \n",
            "  inflating: Siamese/personE/Train/personE_23.png  \n",
            "  inflating: Siamese/personE/Train/personE_24.png  \n",
            "  inflating: Siamese/personE/Train/personE_25.png  \n",
            "  inflating: Siamese/personE/Train/personE_26.png  \n",
            "  inflating: Siamese/personE/Train/personE_28.png  \n",
            "  inflating: Siamese/personE/Train/personE_29.png  \n",
            "  inflating: Siamese/personE/Train/personE_3.png  \n",
            "  inflating: Siamese/personE/Train/personE_30.png  \n",
            "  inflating: Siamese/personE/Train/personE_31.png  \n",
            "  inflating: Siamese/personE/Train/personE_33.png  \n",
            "  inflating: Siamese/personE/Train/personE_34.png  \n",
            "  inflating: Siamese/personE/Train/personE_36.png  \n",
            "  inflating: Siamese/personE/Train/personE_37.png  \n",
            "  inflating: Siamese/personE/Train/personE_38.png  \n",
            "  inflating: Siamese/personE/Train/personE_39.png  \n",
            "  inflating: Siamese/personE/Train/personE_4.png  \n",
            "  inflating: Siamese/personE/Train/personE_41.png  \n",
            "  inflating: Siamese/personE/Train/personE_42.png  \n",
            "  inflating: Siamese/personE/Train/personE_43.png  \n",
            "  inflating: Siamese/personE/Train/personE_44.png  \n",
            "  inflating: Siamese/personE/Train/personE_45.png  \n",
            "  inflating: Siamese/personE/Train/personE_46.png  \n",
            "  inflating: Siamese/personE/Train/personE_47.png  \n",
            "  inflating: Siamese/personE/Train/personE_48.png  \n",
            "  inflating: Siamese/personE/Train/personE_5.png  \n",
            "  inflating: Siamese/personE/Train/personE_6.png  \n",
            "  inflating: Siamese/personE/Train/personE_7.png  \n",
            "  inflating: Siamese/personE/Train/personE_8.png  \n",
            "  inflating: Siamese/personE/Train/personE_9.png  \n",
            "  inflating: Siamese/personE/Train/personE_SigVerificationTrainLabels.csv  \n"
          ]
        }
      ]
    },
    {
      "cell_type": "markdown",
      "source": [
        "# Accessing the data"
      ],
      "metadata": {
        "id": "f02e70e6"
      }
    },
    {
      "cell_type": "code",
      "source": [
        "path = \"/content/Siamese\"\n",
        "training_data = []\n",
        "for i, folder in enumerate(os.listdir(path)):\n",
        "    for sub_folder in os.listdir(path+\"/\"+folder):\n",
        "        if os.path.basename(sub_folder) == \"Train\":\n",
        "            training_path = path+\"/\"+folder+\"/\"+sub_folder\n",
        "            files = os.listdir(path+\"/\"+folder+\"/\"+sub_folder)\n",
        "            for file in files:\n",
        "                if file.endswith(\".csv\"):\n",
        "                    training_data.append(f\"{training_path}/{file}\")\n",
        "\n",
        "training_triplets = []\n",
        "for person_csv_path in training_data:\n",
        "    person_file_data = pd.read_csv(person_csv_path)\n",
        "    forged_signs = person_file_data[person_file_data[\"label\"] == \"forged\"][\"image_name\"].values\n",
        "    real_signs = person_file_data[person_file_data[\"label\"] == \"real\"][\"image_name\"].values\n",
        "    real_pairs = list(combinations(real_signs, 2))\n",
        "    training_triplets.extend([(anchor, positive, negative) for (anchor, positive) in real_pairs for negative in forged_signs])"
      ],
      "metadata": {
        "id": "2cdbbfac",
        "trusted": true,
        "execution": {
          "iopub.status.busy": "2025-04-17T09:11:41.604096Z",
          "iopub.execute_input": "2025-04-17T09:11:41.604398Z",
          "iopub.status.idle": "2025-04-17T09:11:41.762158Z",
          "shell.execute_reply.started": "2025-04-17T09:11:41.604377Z",
          "shell.execute_reply": "2025-04-17T09:11:41.761393Z"
        }
      },
      "outputs": [],
      "execution_count": 6
    },
    {
      "cell_type": "markdown",
      "source": [
        "Now we have unique triplets for all the data. We need to preprocess the images from the image names and labels from these triplets."
      ],
      "metadata": {
        "id": "cb4c459d"
      }
    },
    {
      "cell_type": "markdown",
      "source": [
        "# Preprocessing Functions"
      ],
      "metadata": {
        "id": "833cc1f3"
      }
    },
    {
      "cell_type": "code",
      "source": [
        "def process_batch(batch):\n",
        "    def get_image_from_path(image_name, path):\n",
        "        for i, folder in enumerate(os.listdir(path)):\n",
        "            for sub_folder in os.listdir(path+\"/\"+folder):\n",
        "                if os.path.basename(sub_folder) == \"Train\":\n",
        "                    if image_name in os.listdir(path+\"/\"+folder+\"/\"+sub_folder):\n",
        "                        image = cv2.imread(path+\"/\"+folder+\"/\"+sub_folder+\"/\"+image_name)\n",
        "                        image = cv2.cvtColor(image, cv2.COLOR_BGR2GRAY)\n",
        "                        image = cv2.resize(image, (128, 128))\n",
        "                        image = image.reshape(1, 128, 128)\n",
        "                        image = image.astype(np.float32)\n",
        "                        image = torch.tensor(image)\n",
        "                        return image\n",
        "\n",
        "    def get_images_from_triplet(triplet, path):\n",
        "        anchor = get_image_from_path(triplet[0], path)\n",
        "        positive = get_image_from_path(triplet[1], path)\n",
        "        negative = get_image_from_path(triplet[2], path)\n",
        "        return anchor, positive, negative\n",
        "\n",
        "    processed_batch = []\n",
        "    for triplet in zip(*batch):\n",
        "        anchor, positive, negative = get_images_from_triplet(triplet, path)\n",
        "        processed_batch.append((anchor, positive, negative))\n",
        "    return processed_batch"
      ],
      "metadata": {
        "id": "a9291a86",
        "trusted": true,
        "execution": {
          "iopub.status.busy": "2025-04-17T09:11:42.962437Z",
          "iopub.execute_input": "2025-04-17T09:11:42.962701Z",
          "iopub.status.idle": "2025-04-17T09:11:42.968977Z",
          "shell.execute_reply.started": "2025-04-17T09:11:42.962681Z",
          "shell.execute_reply": "2025-04-17T09:11:42.968492Z"
        }
      },
      "outputs": [],
      "execution_count": 7
    },
    {
      "cell_type": "markdown",
      "source": [
        "# Creating Dataset and Dataloader"
      ],
      "metadata": {
        "id": "81872f89"
      }
    },
    {
      "cell_type": "code",
      "source": [
        "class SiameseDataset(Dataset):\n",
        "    def __init__(self, triplets):\n",
        "        self.__triplets__ = triplets\n",
        "\n",
        "    def __len__(self):\n",
        "        return len(self.__triplets__)\n",
        "\n",
        "    def __getitem__(self, idx):\n",
        "        return self.__triplets__[idx]"
      ],
      "metadata": {
        "id": "fa2b8335",
        "trusted": true,
        "execution": {
          "iopub.status.busy": "2025-04-17T09:11:44.014326Z",
          "iopub.execute_input": "2025-04-17T09:11:44.014585Z",
          "iopub.status.idle": "2025-04-17T09:11:44.018664Z",
          "shell.execute_reply.started": "2025-04-17T09:11:44.014568Z",
          "shell.execute_reply": "2025-04-17T09:11:44.018055Z"
        }
      },
      "outputs": [],
      "execution_count": 8
    },
    {
      "cell_type": "markdown",
      "source": [
        "Now everything is set. let's get the training and testing data"
      ],
      "metadata": {
        "id": "9ba820d9"
      }
    },
    {
      "cell_type": "code",
      "source": [
        "training_data = SiameseDataset(training_triplets)\n",
        "train_dataloader = DataLoader(training_data, batch_size=8, shuffle=True)"
      ],
      "metadata": {
        "id": "02e38d8d",
        "trusted": true,
        "execution": {
          "iopub.status.busy": "2025-04-17T09:11:44.743148Z",
          "iopub.execute_input": "2025-04-17T09:11:44.743804Z",
          "iopub.status.idle": "2025-04-17T09:11:44.747796Z",
          "shell.execute_reply.started": "2025-04-17T09:11:44.743779Z",
          "shell.execute_reply": "2025-04-17T09:11:44.747217Z"
        }
      },
      "outputs": [],
      "execution_count": 9
    },
    {
      "cell_type": "code",
      "source": [
        "del training_triplets, training_data  #freeing up memory"
      ],
      "metadata": {
        "trusted": true,
        "execution": {
          "iopub.status.busy": "2025-04-17T09:11:45.207191Z",
          "iopub.execute_input": "2025-04-17T09:11:45.207514Z",
          "iopub.status.idle": "2025-04-17T09:11:45.211104Z",
          "shell.execute_reply.started": "2025-04-17T09:11:45.207493Z",
          "shell.execute_reply": "2025-04-17T09:11:45.210460Z"
        },
        "id": "qqKcsokWeQv6"
      },
      "outputs": [],
      "execution_count": 10
    },
    {
      "cell_type": "code",
      "source": [
        "class Siamese_network(nn.Module):\n",
        "    def __init__(self):\n",
        "        super(Siamese_network, self).__init__()\n",
        "\n",
        "        self.cnn = nn.Sequential(\n",
        "            nn.Conv2d(1, 32, kernel_size=3, stride=1, padding=1, padding_mode=\"zeros\"),\n",
        "            nn.ReLU(inplace=True),\n",
        "            nn.MaxPool2d(kernel_size=2, stride=1),  # Reduces by 1 in each dimension\n",
        "            nn.Conv2d(32, 32, kernel_size=3, stride=1, padding=1, padding_mode=\"zeros\"),\n",
        "            nn.ReLU(inplace=True),\n",
        "            nn.MaxPool2d(kernel_size=2, stride=1)  # Reduces by 1 in each dimension\n",
        "        )\n",
        "\n",
        "\n",
        "        self.fc = nn.Sequential(\n",
        "            nn.Flatten(),\n",
        "            nn.Linear(508032, 128)\n",
        "        )\n",
        "\n",
        "    def forward_once(self, x):\n",
        "        x = self.cnn(x)\n",
        "        x = self.fc(x)\n",
        "        return x\n",
        "\n",
        "    def forward(self, input1, input2):\n",
        "        output1 = self.forward_once(input1)\n",
        "        output2 = self.forward_once(input2)\n",
        "        output = F.pairwise_distance(output1, output2, p=2)\n",
        "        return output"
      ],
      "metadata": {
        "id": "d0e2c941",
        "trusted": true,
        "execution": {
          "iopub.status.busy": "2025-04-17T09:11:51.335441Z",
          "iopub.execute_input": "2025-04-17T09:11:51.336102Z",
          "iopub.status.idle": "2025-04-17T09:11:51.341993Z",
          "shell.execute_reply.started": "2025-04-17T09:11:51.336078Z",
          "shell.execute_reply": "2025-04-17T09:11:51.341273Z"
        }
      },
      "outputs": [],
      "execution_count": 11
    },
    {
      "cell_type": "markdown",
      "source": [
        "# Loss Function"
      ],
      "metadata": {
        "id": "Rk4DCU2XeQv7"
      }
    },
    {
      "cell_type": "code",
      "source": [
        "import torch.nn.functional as F\n",
        "from tqdm import tqdm\n",
        "\n",
        "triplet_loss = nn.TripletMarginLoss(margin=100, p=2, eps=1e-7,reduction=\"mean\")"
      ],
      "metadata": {
        "trusted": true,
        "execution": {
          "iopub.status.busy": "2025-04-17T09:12:04.597075Z",
          "iopub.execute_input": "2025-04-17T09:12:04.597383Z",
          "iopub.status.idle": "2025-04-17T09:12:04.602116Z",
          "shell.execute_reply.started": "2025-04-17T09:12:04.597362Z",
          "shell.execute_reply": "2025-04-17T09:12:04.601442Z"
        },
        "id": "DE86ShKNeQwU"
      },
      "outputs": [],
      "execution_count": 12
    },
    {
      "cell_type": "markdown",
      "source": [
        "# Training Loop"
      ],
      "metadata": {
        "id": "kKHojr9reQwU"
      }
    },
    {
      "cell_type": "code",
      "source": [
        "model = Siamese_network()\n",
        "device = torch.device(\"cuda\" if torch.cuda.is_available() else \"cpu\")\n",
        "model = model.to(device)\n",
        "\n",
        "optimizer = torch.optim.Adam(model.parameters(), lr=1e-4)\n",
        "epochs = 3\n",
        "\n",
        "for epoch in range(epochs):\n",
        "    model.train()\n",
        "    running_loss = 0.0\n",
        "    running_batch_accuracy = 0.0\n",
        "    total_correct_preds = 0\n",
        "    total_samples = 0\n",
        "\n",
        "    pbar = tqdm(train_dataloader, desc=f\"Epoch {epoch + 1}/{epochs}\", unit=\"batch\", leave=False)\n",
        "\n",
        "    for batch in pbar:\n",
        "        processed_batch = process_batch(batch)\n",
        "        anchors, positives, negatives = zip(*processed_batch)\n",
        "        anchors = torch.stack(anchors).to(device)\n",
        "        positives = torch.stack(positives).to(device)\n",
        "        negatives = torch.stack(negatives).to(device)\n",
        "\n",
        "        optimizer.zero_grad()\n",
        "\n",
        "        anchor_embed = model.forward_once(anchors)\n",
        "        pos_embed = model.forward_once(positives)\n",
        "        neg_embed = model.forward_once(negatives)\n",
        "        loss = triplet_loss(anchor_embed, pos_embed, neg_embed)\n",
        "\n",
        "        loss.backward()\n",
        "        optimizer.step()\n",
        "        running_loss += loss.item()\n",
        "\n",
        "        with torch.no_grad():\n",
        "            pos_dist = model(anchors, positives)\n",
        "            neg_dist = model(anchors, negatives)\n",
        "            correct_preds = (pos_dist < neg_dist).sum().item()\n",
        "            total_preds = anchors.size(0)\n",
        "\n",
        "            batch_accuracy = (correct_preds / total_preds) * 100\n",
        "            running_batch_accuracy += batch_accuracy\n",
        "            total_correct_preds += correct_preds\n",
        "            total_samples += total_preds\n",
        "\n",
        "        avg_loss = running_loss / (pbar.n + 1)\n",
        "        avg_acc = running_batch_accuracy / (pbar.n + 1)\n",
        "\n",
        "        pbar.set_postfix({\n",
        "            \"avg_epoch_Loss\": f\"{avg_loss:.4f}\",\n",
        "            \"avg_epoch_Acc\": f\"{avg_acc:.2f}%\",\n",
        "            \"current_batch_Acc\": f\"{batch_accuracy:.2f}%\"\n",
        "        })\n",
        "\n",
        "    epoch_loss = running_loss / len(train_dataloader)\n",
        "    avg_batch_acc = running_batch_accuracy / len(train_dataloader)\n",
        "    total_epoch_acc = (total_correct_preds / total_samples) * 100\n",
        "\n",
        "    print(f\"\\nEpoch {epoch + 1} Summary:\")\n",
        "    print(f\"  Final Avg Loss          : {epoch_loss:.4f}\")\n",
        "    print(f\"  Avg Batch Accuracy      : {avg_batch_acc:.2f}%\")\n",
        "    print(f\"  Total Prediction Accuracy: {total_epoch_acc:.2f}%\\n\")\n"
      ],
      "metadata": {
        "id": "51cf4a05",
        "outputId": "e5de3738-9876-4032-ee41-b203e57418ca",
        "trusted": true,
        "scrolled": true,
        "_kg_hide-input": true,
        "execution": {
          "iopub.status.busy": "2025-04-17T09:13:11.639847Z",
          "iopub.execute_input": "2025-04-17T09:13:11.640645Z"
        },
        "colab": {
          "base_uri": "https://localhost:8080/"
        }
      },
      "outputs": [
        {
          "output_type": "stream",
          "name": "stderr",
          "text": []
        },
        {
          "output_type": "stream",
          "name": "stdout",
          "text": [
            "\n",
            "Epoch 1 Summary:\n",
            "  Final Avg Loss          : 2.5325\n",
            "  Avg Batch Accuracy      : 99.91%\n",
            "  Total Prediction Accuracy: 99.91%\n",
            "\n"
          ]
        },
        {
          "output_type": "stream",
          "name": "stderr",
          "text": []
        },
        {
          "output_type": "stream",
          "name": "stdout",
          "text": [
            "\n",
            "Epoch 2 Summary:\n",
            "  Final Avg Loss          : 0.9873\n",
            "  Avg Batch Accuracy      : 100.00%\n",
            "  Total Prediction Accuracy: 100.00%\n",
            "\n"
          ]
        },
        {
          "output_type": "stream",
          "name": "stderr",
          "text": [
            "                                                                                                                                          "
          ]
        },
        {
          "output_type": "stream",
          "name": "stdout",
          "text": [
            "\n",
            "Epoch 3 Summary:\n",
            "  Final Avg Loss          : 0.3618\n",
            "  Avg Batch Accuracy      : 100.00%\n",
            "  Total Prediction Accuracy: 100.00%\n",
            "\n"
          ]
        },
        {
          "output_type": "stream",
          "name": "stderr",
          "text": [
            "\r"
          ]
        }
      ],
      "execution_count": 32
    },
    {
      "cell_type": "markdown",
      "source": [
        "# Preparing Test Data"
      ],
      "metadata": {
        "id": "-8WYoLcReQwX"
      }
    },
    {
      "cell_type": "code",
      "source": [
        "testing_data = []\n",
        "for i, folder in enumerate(os.listdir(path)):\n",
        "    for sub_folder in os.listdir(path+\"/\"+folder):\n",
        "        if os.path.basename(sub_folder) == \"Test\":\n",
        "            testing_path = path+\"/\"+folder+\"/\"+sub_folder\n",
        "            files = os.listdir(path+\"/\"+folder+\"/\"+sub_folder)\n",
        "            for file in files:\n",
        "                if file.endswith(\".csv\"):\n",
        "                    testing_data.append(f\"{testing_path}/{file}\")\n",
        "\n",
        "testing_pairs = []\n",
        "for person_csv_path in testing_data:\n",
        "    person_file_data = pd.read_csv(person_csv_path)\n",
        "    forged_signs = person_file_data[person_file_data[\"label\"] == \"forged\"][\"image_name\"].values\n",
        "    real_signs = person_file_data[person_file_data[\"label\"] == \"real\"][\"image_name\"].values\n",
        "    real_pairs = list(combinations(real_signs, 2))\n",
        "    testing_pairs.extend([(anchor, positive, 1) for anchor, positive in real_pairs])\n",
        "    testing_pairs.extend([(anchor, negative, 0) for anchor in real_signs for negative in forged_signs])"
      ],
      "metadata": {
        "trusted": true,
        "id": "rlCe8dt0eQwX"
      },
      "outputs": [],
      "execution_count": 33
    },
    {
      "cell_type": "code",
      "source": [
        "class SiameseDataset_testing(Dataset):\n",
        "    def __init__(self, pairs):\n",
        "        # Expected: pairs = [(anchor, sample, label), ...]\n",
        "        self.anchors = [anchor for anchor, _, _ in pairs]\n",
        "        self.samples = [sample for _, sample, _ in pairs]\n",
        "        self.labels = [label for _, _, label in pairs]\n",
        "\n",
        "    def __len__(self):\n",
        "        return len(self.labels)\n",
        "\n",
        "    def __getitem__(self, idx):\n",
        "        return self.anchors[idx], self.samples[idx], self.labels[idx]\n",
        "\n",
        "testing_data = SiameseDataset_testing(testing_pairs)\n",
        "test_dataloader = DataLoader(testing_data, batch_size=16, shuffle=True)\n",
        "\n",
        "def process_testing_batch(batch):\n",
        "    def get_image_from_path(image_name, path):\n",
        "        for i, folder in enumerate(os.listdir(path)):\n",
        "            for sub_folder in os.listdir(path+\"/\"+folder):\n",
        "                if os.path.basename(sub_folder) == \"Test\":\n",
        "                    if image_name in os.listdir(path+\"/\"+folder+\"/\"+sub_folder):\n",
        "                        image = cv2.imread(path+\"/\"+folder+\"/\"+sub_folder+\"/\"+image_name)\n",
        "                        image = cv2.cvtColor(image, cv2.COLOR_BGR2GRAY)\n",
        "                        image = cv2.resize(image, (128, 128))\n",
        "                        image = image.reshape(1, 128, 128)\n",
        "                        image = image.astype(np.float32)\n",
        "                        image = torch.tensor(image)\n",
        "                        return image\n",
        "\n",
        "    def get_images_from_pair(pair, path):\n",
        "        anchor = get_image_from_path(pair[0], path)\n",
        "        sample = get_image_from_path(pair[1], path)\n",
        "        return anchor, sample\n",
        "\n",
        "    processed_batch = []\n",
        "    for pair in zip(*batch):\n",
        "        label  = pair[-1].item()\n",
        "        anchor, sample =  get_images_from_pair(pair, path)\n",
        "        processed_batch.append((anchor, sample, label))\n",
        "    return processed_batch"
      ],
      "metadata": {
        "trusted": true,
        "id": "Py6VvB8NeQwY"
      },
      "outputs": [],
      "execution_count": 34
    },
    {
      "cell_type": "markdown",
      "source": [
        "# Testing"
      ],
      "metadata": {
        "id": "j_c9F79deQwY"
      }
    },
    {
      "cell_type": "code",
      "source": [
        "from sklearn.metrics import classification_report\n",
        "\n",
        "all_labels = []\n",
        "all_preds = []\n",
        "dist_list = []\n",
        "pbar = tqdm(test_dataloader, desc=\"Testing\", unit=\"batch\", leave=False)\n",
        "\n",
        "for pairs in pbar:\n",
        "\n",
        "    processed_batch = process_testing_batch(pairs)\n",
        "    anchors, samples, labels = zip(*processed_batch)\n",
        "\n",
        "    # Stack to create batch tensors\n",
        "    anchors = torch.stack(anchors).to(device)\n",
        "    samples = torch.stack(samples).to(device)\n",
        "\n",
        "    model.eval()\n",
        "    with torch.no_grad():\n",
        "\n",
        "        distances = model(anchors, samples)\n",
        "        dist_list.extend(distances.int().tolist())\n",
        "        preds = (distances < 4500).int().cpu().tolist()  # 4500 is the number sensed from the distribution of labels on test data\n",
        "        true_labels = list(labels)                      # including some sort of trial and error\n",
        "\n",
        "        all_preds.extend(preds)\n",
        "        all_labels.extend(true_labels)\n",
        "print(\"Median = \", np.median(dist_list))\n",
        "print(\"Mean = \", np.mean(dist_list))\n",
        "\n",
        "plt.figure(figsize = (15,10))\n",
        "sns.histplot(x = dist_list, binwidth=100 , hue = all_labels, kde=True)\n",
        "plt.xticks(np.arange(0, 21000, 200),rotation=70)\n",
        "plt.show()\n",
        "# Print classification report\n",
        "print(\"\\nClassification Report:\")\n",
        "print(classification_report(all_labels, all_preds, digits=4))\n",
        "print(confusion_matrix(all_labels, all_preds))"
      ],
      "metadata": {
        "trusted": true,
        "colab": {
          "base_uri": "https://localhost:8080/",
          "height": 1000
        },
        "id": "jc8gZw9geQwZ",
        "outputId": "dced49c7-1259-4d99-c6a8-cf21e8037716"
      },
      "outputs": [
        {
          "output_type": "stream",
          "name": "stderr",
          "text": []
        },
        {
          "output_type": "stream",
          "name": "stdout",
          "text": [
            "Median =  8660.0\n",
            "Mean =  9423.845454545455\n"
          ]
        },
        {
          "output_type": "display_data",
          "data": {
            "text/plain": [
              "<Figure size 1500x1000 with 1 Axes>"
            ],
            "image/png": "[encoded data removed]"
          },
          "metadata": {}
        },
        {
          "output_type": "stream",
          "name": "stdout",
          "text": [
            "\n",
            "Classification Report:\n",
            "              precision    recall  f1-score   support\n",
            "\n",
            "           0     0.8152    0.9375    0.8721        80\n",
            "           1     0.7222    0.4333    0.5417        30\n",
            "\n",
            "    accuracy                         0.8000       110\n",
            "   macro avg     0.7687    0.6854    0.7069       110\n",
            "weighted avg     0.7899    0.8000    0.7820       110\n",
            "\n",
            "[[75  5]\n",
            " [17 13]]\n"
          ]
        }
      ],
      "execution_count": 64
    },
    {
      "cell_type": "code",
      "source": [],
      "metadata": {
        "id": "gdrcbumuiPZr"
      },
      "execution_count": null,
      "outputs": []
    }
  ]
}